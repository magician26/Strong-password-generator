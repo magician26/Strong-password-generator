{
 "cells": [
  {
   "cell_type": "code",
   "execution_count": 1,
   "id": "4e06c803",
   "metadata": {},
   "outputs": [
    {
     "name": "stdout",
     "output_type": "stream",
     "text": [
      "Input your password: hdhdcbbc\n",
      "Password does not meet requirements.\n"
     ]
    }
   ],
   "source": [
    "import re\n",
    "\n",
    "def validate_password(password):\n",
    "    # Check if the password has at least 8 characters\n",
    "    if len(password) < 8:\n",
    "        return False\n",
    "    \n",
    "    # Check if the password contains at least one uppercase letter\n",
    "    if not re.search(r'[A-Z]', password):\n",
    "        return False\n",
    "    \n",
    "    # Check if the password contains at least one lowercase letter\n",
    "    if not re.search(r'[a-z]', password):\n",
    "        return False\n",
    "    \n",
    "    # Check if the password contains at least one digit\n",
    "    if not re.search(r'\\d', password):\n",
    "        return False\n",
    "    \n",
    "    # Check if the password contains at least one special character\n",
    "    if not re.search(r'[!@#$%^&*(),.?\":{}|<>]', password):\n",
    "        return False\n",
    "    \n",
    "    # If all the conditions are met, the password is valid\n",
    "    return True\n",
    "\n",
    "password = input(\"Input your password: \")\n",
    "is_valid = validate_password(password)\n",
    "\n",
    "if is_valid:\n",
    "    print(\"Valid Password.\")\n",
    "else:\n",
    "    print(\"Password does not meet requirements.\")\n"
   ]
  },
  {
   "cell_type": "code",
   "execution_count": null,
   "id": "20f32594",
   "metadata": {},
   "outputs": [],
   "source": []
  }
 ],
 "metadata": {
  "kernelspec": {
   "display_name": "Python 3 (ipykernel)",
   "language": "python",
   "name": "python3"
  },
  "language_info": {
   "codemirror_mode": {
    "name": "ipython",
    "version": 3
   },
   "file_extension": ".py",
   "mimetype": "text/x-python",
   "name": "python",
   "nbconvert_exporter": "python",
   "pygments_lexer": "ipython3",
   "version": "3.11.5"
  }
 },
 "nbformat": 4,
 "nbformat_minor": 5
}
